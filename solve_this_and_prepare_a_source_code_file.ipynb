{
  "cells": [
    {
      "cell_type": "code",
      "source": [
        "import pandas as pd\n",
        "\n",
        "pd.set_option('display.max_rows', None)\n",
        "pd.set_option('display.max_columns', None)\n",
        "\n",
        "# Read the CSV file into a DataFrame\n",
        "df = pd.read_csv('Hotel Reservation Dataset.csv')\n",
        "\n",
        "# Display the first 5 rows\n",
        "print(df.head().to_markdown(index=False, numalign=\"left\", stralign=\"left\"))\n",
        "\n",
        "# Print the column names and their data types\n",
        "print(df.info())"
      ],
      "outputs": [
        {
          "output_type": "stream",
          "name": "stdout",
          "text": [
            "| Booking_ID   | no_of_adults   | no_of_children   | no_of_weekend_nights   | no_of_week_nights   | type_of_meal_plan   | room_type_reserved   | lead_time   | arrival_date   | market_segment_type   | avg_price_per_room   | booking_status   |\n",
            "|:-------------|:---------------|:-----------------|:-----------------------|:--------------------|:--------------------|:---------------------|:------------|:---------------|:----------------------|:---------------------|:-----------------|\n",
            "| INN00001     | 2              | 0                | 1                      | 2                   | Meal Plan 1         | Room_Type 1          | 224         | 02-10-2017     | Offline               | 65                   | Not_Canceled     |\n",
            "| INN00002     | 2              | 0                | 2                      | 3                   | Not Selected        | Room_Type 1          | 5           | 06-11-2018     | Online                | 106.68               | Not_Canceled     |\n",
            "| INN00003     | 1              | 0                | 2                      | 1                   | Meal Plan 1         | Room_Type 1          | 1           | 28-02-2018     | Online                | 60                   | Canceled         |\n",
            "| INN00004     | 2              | 0                | 0                      | 2                   | Meal Plan 1         | Room_Type 1          | 211         | 20-05-2018     | Online                | 100                  | Canceled         |\n",
            "| INN00005     | 2              | 0                | 1                      | 1                   | Not Selected        | Room_Type 1          | 48          | 11-04-2018     | Online                | 94.5                 | Canceled         |\n",
            "<class 'pandas.core.frame.DataFrame'>\n",
            "RangeIndex: 700 entries, 0 to 699\n",
            "Data columns (total 12 columns):\n",
            " #   Column                Non-Null Count  Dtype  \n",
            "---  ------                --------------  -----  \n",
            " 0   Booking_ID            700 non-null    object \n",
            " 1   no_of_adults          700 non-null    int64  \n",
            " 2   no_of_children        700 non-null    int64  \n",
            " 3   no_of_weekend_nights  700 non-null    int64  \n",
            " 4   no_of_week_nights     700 non-null    int64  \n",
            " 5   type_of_meal_plan     700 non-null    object \n",
            " 6   room_type_reserved    700 non-null    object \n",
            " 7   lead_time             700 non-null    int64  \n",
            " 8   arrival_date          700 non-null    object \n",
            " 9   market_segment_type   700 non-null    object \n",
            " 10  avg_price_per_room    700 non-null    float64\n",
            " 11  booking_status        700 non-null    object \n",
            "dtypes: float64(1), int64(5), object(6)\n",
            "memory usage: 65.8+ KB\n",
            "None\n"
          ]
        }
      ],
      "execution_count": 18,
      "metadata": {
        "colab": {
          "base_uri": "https://localhost:8080/"
        },
        "id": "NIeGqmEfBnHq",
        "outputId": "4a5971c1-fb28-4051-abcc-269d036519bb"
      }
    },
    {
      "cell_type": "code",
      "source": [
        "# Count the total number of rows in the dataframe\n",
        "total_reservations = df.shape[0]\n",
        "print(f'The total number of reservations in the dataset is: {total_reservations}')\n",
        "\n",
        "# Count the number of unique values in the `Booking_ID` column\n",
        "unique_booking_ids = df['Booking_ID'].nunique()\n",
        "print(f'The total number of unique booking IDs in the dataset is: {unique_booking_ids}')\n",
        "\n",
        "# Create a SQL query string that counts the number of rows in the table\n",
        "query = '''SELECT COUNT(*) AS total_reservations FROM hotel_reservations'''\n",
        "print(f'SQL query to find total number of reservations: {query}')"
      ],
      "outputs": [
        {
          "output_type": "stream",
          "name": "stdout",
          "text": [
            "The total number of reservations in the dataset is: 700\n",
            "The total number of unique booking IDs in the dataset is: 700\n",
            "SQL query to find total number of reservations: SELECT COUNT(*) AS total_reservations FROM hotel_reservations\n"
          ]
        }
      ],
      "execution_count": 19,
      "metadata": {
        "colab": {
          "base_uri": "https://localhost:8080/"
        },
        "id": "BR53-ycABnH1",
        "outputId": "8af5d42c-0753-4ecb-8a7b-06d4e8e51275"
      }
    },
    {
      "cell_type": "code",
      "source": [
        "# Calculate the frequency counts of unique values in the `type_of_meal_plan` column\n",
        "meal_plan_counts = df['type_of_meal_plan'].value_counts()\n",
        "\n",
        "# Sort the results in descending order by frequency count\n",
        "meal_plan_counts = meal_plan_counts.sort_values(ascending=False)\n",
        "\n",
        "# Select the first row (the most frequent value) and print the result\n",
        "most_popular_meal_plan = meal_plan_counts.index[0]\n",
        "print(f'The most popular meal plan among guests is: {most_popular_meal_plan}')\n",
        "\n",
        "# Create a SQL query string that finds the most frequent value in the `type_of_meal_plan` column\n",
        "query = '''SELECT type_of_meal_plan, COUNT(*) AS frequency\n",
        "           FROM hotel_reservations\n",
        "           GROUP BY type_of_meal_plan\n",
        "           ORDER BY frequency DESC\n",
        "           LIMIT 1'''\n",
        "print(f'SQL query to find most popular meal plan: {query}')"
      ],
      "outputs": [
        {
          "output_type": "stream",
          "name": "stdout",
          "text": [
            "The most popular meal plan among guests is: Meal Plan 1\n",
            "SQL query to find most popular meal plan: SELECT type_of_meal_plan, COUNT(*) AS frequency\n",
            "           FROM hotel_reservations\n",
            "           GROUP BY type_of_meal_plan\n",
            "           ORDER BY frequency DESC\n",
            "           LIMIT 1\n"
          ]
        }
      ],
      "execution_count": 20,
      "metadata": {
        "colab": {
          "base_uri": "https://localhost:8080/"
        },
        "id": "8PwF5_GfBnH4",
        "outputId": "c5d87c8b-509f-474c-b472-f246545f0bb8"
      }
    },
    {
      "cell_type": "code",
      "source": [
        "# Filter the dataframe to only include rows where `no_of_children` is greater than 0\n",
        "df_with_children = df[df['no_of_children'] > 0]\n",
        "\n",
        "# Calculate the mean of the `avg_price_per_room` column for the filtered dataframe\n",
        "avg_price_with_children = df_with_children['avg_price_per_room'].mean()\n",
        "print(f'The average price per room for reservations involving children is: {avg_price_with_children:.2f}')\n",
        "\n",
        "# Create a SQL query string that calculates the average `avg_price_per_room` for rows where `no_of_children` is greater than 0\n",
        "query = '''SELECT AVG(avg_price_per_room) AS avg_price_with_children\n",
        "           FROM hotel_reservations\n",
        "           WHERE no_of_children > 0'''\n",
        "print(f'SQL query to find average price per room for reservations with children: {query}')"
      ],
      "outputs": [
        {
          "output_type": "stream",
          "name": "stdout",
          "text": [
            "The average price per room for reservations involving children is: 144.57\n",
            "SQL query to find average price per room for reservations with children: SELECT AVG(avg_price_per_room) AS avg_price_with_children\n",
            "           FROM hotel_reservations\n",
            "           WHERE no_of_children > 0\n"
          ]
        }
      ],
      "execution_count": 21,
      "metadata": {
        "colab": {
          "base_uri": "https://localhost:8080/"
        },
        "id": "HBy6un8-BnH6",
        "outputId": "39b81a51-dc7b-433c-c93d-2606a9ed707e"
      }
    },
    {
      "cell_type": "code",
      "source": [
        "# Convert the `arrival_date` column to datetime\n",
        "df['arrival_date'] = pd.to_datetime(df['arrival_date'], format='%d-%m-%Y')\n",
        "\n",
        "# Extract the year from the `arrival_date` column and store it as a new column `arrival_year`\n",
        "df['arrival_year'] = df['arrival_date'].dt.year\n",
        "\n",
        "# Calculate the frequency counts of unique values in the `arrival_year` column\n",
        "arrival_year_counts = df['arrival_year'].value_counts()\n",
        "\n",
        "# Sort the results in descending order by frequency count\n",
        "arrival_year_counts = arrival_year_counts.sort_values(ascending=False)\n",
        "\n",
        "# Select the first row (the most frequent year) and store the year and frequency count in variables\n",
        "most_frequent_year = arrival_year_counts.index[0]\n",
        "most_frequent_year_count = arrival_year_counts.iloc[0]\n",
        "\n",
        "# Filter the dataframe on the year with the most reservations\n",
        "df_most_frequent_year = df[df['arrival_year'] == most_frequent_year]\n",
        "\n",
        "# Count the number of rows in the filtered dataframe\n",
        "reservations_in_most_frequent_year = df_most_frequent_year.shape[0]\n",
        "print(f'The number of reservations made in the year {most_frequent_year} is: {reservations_in_most_frequent_year}')\n",
        "\n",
        "# Create a SQL query string that finds the year with the most reservations and the number of reservations in that year\n",
        "query = '''SELECT\n",
        "            EXTRACT(YEAR FROM arrival_date) AS arrival_year,\n",
        "            COUNT(*) AS num_reservations\n",
        "           FROM hotel_reservations\n",
        "           GROUP BY arrival_year\n",
        "           ORDER BY num_reservations DESC\n",
        "           LIMIT 1'''\n",
        "print(f'SQL query to find the year with the most reservations: {query}')"
      ],
      "outputs": [
        {
          "output_type": "stream",
          "name": "stdout",
          "text": [
            "The number of reservations made in the year 2018 is: 577\n",
            "SQL query to find the year with the most reservations: SELECT\n",
            "            EXTRACT(YEAR FROM arrival_date) AS arrival_year,\n",
            "            COUNT(*) AS num_reservations\n",
            "           FROM hotel_reservations\n",
            "           GROUP BY arrival_year\n",
            "           ORDER BY num_reservations DESC\n",
            "           LIMIT 1\n"
          ]
        }
      ],
      "execution_count": 22,
      "metadata": {
        "colab": {
          "base_uri": "https://localhost:8080/"
        },
        "id": "wdUTQiqPBnH9",
        "outputId": "ba8313ae-9392-4036-82b2-bfd3cedacab8"
      }
    },
    {
      "cell_type": "code",
      "source": [
        "# Calculate the frequency counts of unique values in the `room_type_reserved` column\n",
        "room_type_counts = df['room_type_reserved'].value_counts()\n",
        "\n",
        "# Sort the results in descending order by frequency count\n",
        "room_type_counts = room_type_counts.sort_values(ascending=False)\n",
        "\n",
        "# Select the first row (the most frequent value) and print the result\n",
        "most_common_room_type = room_type_counts.index[0]\n",
        "print(f'The most commonly booked room type is: {most_common_room_type}')\n",
        "\n",
        "# Create a SQL query string that finds the most frequent value in the `room_type_reserved` column\n",
        "query = '''SELECT room_type_reserved, COUNT(*) AS frequency\n",
        "           FROM hotel_reservations\n",
        "           GROUP BY room_type_reserved\n",
        "           ORDER BY frequency DESC\n",
        "           LIMIT 1'''\n",
        "print(f'SQL query to find most common room type: {query}')"
      ],
      "outputs": [
        {
          "output_type": "stream",
          "name": "stdout",
          "text": [
            "The most commonly booked room type is: Room_Type 1\n",
            "SQL query to find most common room type: SELECT room_type_reserved, COUNT(*) AS frequency\n",
            "           FROM hotel_reservations\n",
            "           GROUP BY room_type_reserved\n",
            "           ORDER BY frequency DESC\n",
            "           LIMIT 1\n"
          ]
        }
      ],
      "execution_count": 23,
      "metadata": {
        "colab": {
          "base_uri": "https://localhost:8080/"
        },
        "id": "TV-ykiRRBnH_",
        "outputId": "89b50822-6488-4221-ac7d-b6bd914342d9"
      }
    },
    {
      "cell_type": "code",
      "source": [
        "# Filter the dataframe to only include rows where `no_of_weekend_nights` is greater than 0\n",
        "df_weekend_nights = df[df['no_of_weekend_nights'] > 0]\n",
        "\n",
        "# Count the number of rows in the filtered dataframe\n",
        "weekend_night_reservations = df_weekend_nights.shape[0]\n",
        "print(f'The number of reservations that include weekend nights is: {weekend_night_reservations}')\n",
        "\n",
        "# Create a SQL query string that counts the number of rows where `no_of_weekend_nights` is greater than 0\n",
        "query = '''SELECT COUNT(*) AS weekend_night_reservations\n",
        "           FROM hotel_reservations\n",
        "           WHERE no_of_weekend_nights > 0'''\n",
        "print(f'SQL query to find number of reservations that include weekend nights: {query}')"
      ],
      "outputs": [
        {
          "output_type": "stream",
          "name": "stdout",
          "text": [
            "The number of reservations that include weekend nights is: 383\n",
            "SQL query to find number of reservations that include weekend nights: SELECT COUNT(*) AS weekend_night_reservations\n",
            "           FROM hotel_reservations\n",
            "           WHERE no_of_weekend_nights > 0\n"
          ]
        }
      ],
      "execution_count": 24,
      "metadata": {
        "colab": {
          "base_uri": "https://localhost:8080/"
        },
        "id": "B_EyNqK-BnIA",
        "outputId": "c115c8b8-c9ab-4956-82c1-4720736363d6"
      }
    },
    {
      "cell_type": "markdown",
      "source": [
        "The next question is: *What is the highest and lowest lead time for reservations?*\n",
        "\n",
        "We can answer this by using `lead_time` column and finding the minimum and maximum values. Given that the problem statement asks for SQL queries, we will provide the equivalent SQL query along with the Python code to solve the problem.\n"
      ],
      "metadata": {
        "id": "4rteXWzREyfY"
      }
    },
    {
      "cell_type": "code",
      "source": [
        "# Calculate the minimum and maximum values of the `lead_time` column\n",
        "min_lead_time = df['lead_time'].min()\n",
        "max_lead_time = df['lead_time'].max()\n",
        "\n",
        "# Print the results\n",
        "print(f'The minimum lead time for reservations is: {min_lead_time} days')\n",
        "print(f'The maximum lead time for reservations is: {max_lead_time} days')\n",
        "\n",
        "# Create a SQL query string that finds the minimum and maximum values in the `lead_time` column\n",
        "query = '''SELECT MIN(lead_time) AS min_lead_time, MAX(lead_time) AS max_lead_time\n",
        "           FROM hotel_reservations'''\n",
        "print(f'SQL query to find minimum and maximum lead times: {query}')"
      ],
      "metadata": {
        "colab": {
          "base_uri": "https://localhost:8080/"
        },
        "id": "GoyxuSCVEx2-",
        "outputId": "b6cb5574-b1d5-4ae2-d3c8-e2c2dffc15ca"
      },
      "execution_count": 25,
      "outputs": [
        {
          "output_type": "stream",
          "name": "stdout",
          "text": [
            "The minimum lead time for reservations is: 0 days\n",
            "The maximum lead time for reservations is: 443 days\n",
            "SQL query to find minimum and maximum lead times: SELECT MIN(lead_time) AS min_lead_time, MAX(lead_time) AS max_lead_time\n",
            "           FROM hotel_reservations\n"
          ]
        }
      ]
    },
    {
      "cell_type": "code",
      "source": [
        "# Calculate the frequency counts of unique values in the `market_segment_type` column\n",
        "market_segment_counts = df['market_segment_type'].value_counts()\n",
        "\n",
        "# Sort the results in descending order by frequency count\n",
        "market_segment_counts = market_segment_counts.sort_values(ascending=False)\n",
        "\n",
        "# Select the first row (the most frequent value) and print the result\n",
        "most_common_market_segment = market_segment_counts.index[0]\n",
        "print(f'The most common market segment is: {most_common_market_segment}')\n",
        "\n",
        "# Create a SQL query string that finds the most frequent value in the `market_segment_type` column\n",
        "query = '''SELECT market_segment_type, COUNT(*) AS frequency\n",
        "           FROM hotel_reservations\n",
        "           GROUP BY market_segment_type\n",
        "           ORDER BY frequency DESC\n",
        "           LIMIT 1'''\n",
        "print(f'SQL query to find most common market segment: {query}')"
      ],
      "metadata": {
        "colab": {
          "base_uri": "https://localhost:8080/"
        },
        "id": "mSXYZ6q-E_U7",
        "outputId": "8cb7254a-a7eb-4d86-befc-6a20a57a5b46"
      },
      "execution_count": 26,
      "outputs": [
        {
          "output_type": "stream",
          "name": "stdout",
          "text": [
            "The most common market segment is: Online\n",
            "SQL query to find most common market segment: SELECT market_segment_type, COUNT(*) AS frequency\n",
            "           FROM hotel_reservations\n",
            "           GROUP BY market_segment_type\n",
            "           ORDER BY frequency DESC\n",
            "           LIMIT 1\n"
          ]
        }
      ]
    },
    {
      "cell_type": "code",
      "source": [
        "# Filter the dataframe to only include rows where `booking_status` is equal to \"Canceled\"\n",
        "df_canceled = df[df['booking_status'] == 'Canceled']\n",
        "\n",
        "# Count the number of rows in the filtered dataframe\n",
        "canceled_reservations = df_canceled.shape[0]\n",
        "print(f'The number of canceled reservations is: {canceled_reservations}')\n",
        "\n",
        "# Create a SQL query string that counts the number of rows where `booking_status` is equal to \"Canceled\"\n",
        "query = '''SELECT COUNT(*) AS canceled_reservations\n",
        "           FROM hotel_reservations\n",
        "           WHERE booking_status = 'Canceled' '''\n",
        "print(f'SQL query to find number of canceled reservations: {query}')"
      ],
      "metadata": {
        "colab": {
          "base_uri": "https://localhost:8080/"
        },
        "id": "uBsXQJJgFEqL",
        "outputId": "3c026c36-ff9a-4860-dbcf-f7e3ef3efe60"
      },
      "execution_count": 27,
      "outputs": [
        {
          "output_type": "stream",
          "name": "stdout",
          "text": [
            "The number of canceled reservations is: 207\n",
            "SQL query to find number of canceled reservations: SELECT COUNT(*) AS canceled_reservations\n",
            "           FROM hotel_reservations\n",
            "           WHERE booking_status = 'Canceled' \n"
          ]
        }
      ]
    },
    {
      "cell_type": "code",
      "source": [
        "# Calculate the sum of the `no_of_adults` and `no_of_children` columns\n",
        "total_adults = df['no_of_adults'].sum()\n",
        "total_children = df['no_of_children'].sum()\n",
        "\n",
        "# Print the results\n",
        "print(f'The total number of adults is: {total_adults}')\n",
        "print(f'The total number of children is: {total_children}')\n",
        "\n",
        "# Create a SQL query string that calculates the sum of `no_of_adults` and `no_of_children` columns\n",
        "query = '''SELECT SUM(no_of_adults) AS total_adults, SUM(no_of_children) AS total_children\n",
        "           FROM hotel_reservations'''\n",
        "print(f'SQL query to find total number of adults and children: {query}')"
      ],
      "metadata": {
        "colab": {
          "base_uri": "https://localhost:8080/"
        },
        "id": "wqI6ehtSFNvL",
        "outputId": "dbc77c25-f407-49ba-f54b-a31eaaad57f9"
      },
      "execution_count": 28,
      "outputs": [
        {
          "output_type": "stream",
          "name": "stdout",
          "text": [
            "The total number of adults is: 1316\n",
            "The total number of children is: 69\n",
            "SQL query to find total number of adults and children: SELECT SUM(no_of_adults) AS total_adults, SUM(no_of_children) AS total_children\n",
            "           FROM hotel_reservations\n"
          ]
        }
      ]
    },
    {
      "cell_type": "code",
      "source": [
        "# Filter the dataframe to only include rows where `no_of_children` is greater than 0\n",
        "df_with_children = df[df['no_of_children'] > 0]\n",
        "\n",
        "# Calculate the mean of the `no_of_weekend_nights` column for the filtered dataframe\n",
        "avg_weekend_nights_with_children = df_with_children['no_of_weekend_nights'].mean()\n",
        "print(f'The average number of weekend nights for reservations with children is: {avg_weekend_nights_with_children:.2f}')\n",
        "\n",
        "# Create a SQL query string that calculates the average `no_of_weekend_nights` for rows where `no_of_children` is greater than 0\n",
        "query = '''SELECT AVG(no_of_weekend_nights) AS avg_weekend_nights_with_children\n",
        "           FROM hotel_reservations\n",
        "           WHERE no_of_children > 0'''\n",
        "print(f'SQL query to find average number of weekend nights for reservations with children: {query}')"
      ],
      "metadata": {
        "colab": {
          "base_uri": "https://localhost:8080/"
        },
        "id": "5V5aaKZMFmcZ",
        "outputId": "cd51e1ed-5da8-4501-bd41-5ea1a5000910"
      },
      "execution_count": 29,
      "outputs": [
        {
          "output_type": "stream",
          "name": "stdout",
          "text": [
            "The average number of weekend nights for reservations with children is: 1.00\n",
            "SQL query to find average number of weekend nights for reservations with children: SELECT AVG(no_of_weekend_nights) AS avg_weekend_nights_with_children\n",
            "           FROM hotel_reservations\n",
            "           WHERE no_of_children > 0\n"
          ]
        }
      ]
    },
    {
      "cell_type": "code",
      "source": [
        "# Extract the month from the `arrival_date` column and store it as a new column `arrival_month`\n",
        "df['arrival_month'] = df['arrival_date'].dt.month\n",
        "\n",
        "# Calculate the frequency counts of unique values in the `arrival_month` column\n",
        "arrival_month_counts = df['arrival_month'].value_counts()\n",
        "\n",
        "# Sort the results by month order\n",
        "arrival_month_counts = arrival_month_counts.sort_index()\n",
        "\n",
        "# Print the results\n",
        "print('Number of reservations by month:')\n",
        "print(arrival_month_counts.to_markdown(numalign=\"left\", stralign=\"left\"))\n",
        "\n",
        "# Create a SQL query string that extracts the month from `arrival_date` column, groups by the month and counts the number of rows\n",
        "query = '''SELECT\n",
        "            EXTRACT(MONTH FROM arrival_date) AS arrival_month,\n",
        "            COUNT(*) AS num_reservations\n",
        "           FROM hotel_reservations\n",
        "           GROUP BY arrival_month\n",
        "           ORDER BY arrival_month'''\n",
        "print(f'SQL query to find number of reservations by month: {query}')"
      ],
      "metadata": {
        "colab": {
          "base_uri": "https://localhost:8080/"
        },
        "id": "IFIH4sqbFrS1",
        "outputId": "2c6feb59-52c4-4ed8-a4a6-e73963f02a07"
      },
      "execution_count": 30,
      "outputs": [
        {
          "output_type": "stream",
          "name": "stdout",
          "text": [
            "Number of reservations by month:\n",
            "| arrival_month   | count   |\n",
            "|:----------------|:--------|\n",
            "| 1               | 11      |\n",
            "| 2               | 28      |\n",
            "| 3               | 52      |\n",
            "| 4               | 67      |\n",
            "| 5               | 55      |\n",
            "| 6               | 84      |\n",
            "| 7               | 44      |\n",
            "| 8               | 70      |\n",
            "| 9               | 80      |\n",
            "| 10              | 103     |\n",
            "| 11              | 54      |\n",
            "| 12              | 52      |\n",
            "SQL query to find number of reservations by month: SELECT\n",
            "            EXTRACT(MONTH FROM arrival_date) AS arrival_month,\n",
            "            COUNT(*) AS num_reservations\n",
            "           FROM hotel_reservations\n",
            "           GROUP BY arrival_month\n",
            "           ORDER BY arrival_month\n"
          ]
        }
      ]
    },
    {
      "cell_type": "code",
      "source": [
        "# Calculate the total number of nights spent as `total_nights` by adding `no_of_weekend_nights` and `no_of_week_nights`\n",
        "df['total_nights'] = df['no_of_weekend_nights'] + df['no_of_week_nights']\n",
        "\n",
        "# Group the dataframe by `room_type_reserved` and calculate the mean of `total_nights`\n",
        "avg_nights_spent_by_room_type = df.groupby('room_type_reserved')['total_nights'].mean()\n",
        "\n",
        "# Rename the result column to `avg_nights_spent`\n",
        "avg_nights_spent_by_room_type = avg_nights_spent_by_room_type.rename('avg_nights_spent')\n",
        "\n",
        "# Print the results\n",
        "print('Average nights spent by room type:')\n",
        "print(avg_nights_spent_by_room_type.to_markdown(numalign=\"left\", stralign=\"left\"))\n",
        "\n",
        "# Create a SQL query string that calculates the total number of nights spent and then calculates the average of total nights spent for each `room_type_reserved`\n",
        "query = '''SELECT\n",
        "            room_type_reserved,\n",
        "            AVG(no_of_weekend_nights + no_of_week_nights) AS avg_nights_spent\n",
        "           FROM hotel_reservations\n",
        "           GROUP BY room_type_reserved'''\n",
        "print(f'SQL query to find average nights spent by room type: {query}')"
      ],
      "metadata": {
        "colab": {
          "base_uri": "https://localhost:8080/"
        },
        "id": "ERuloCDsFyvs",
        "outputId": "1302f974-eeb4-40b1-d993-c918995e3658"
      },
      "execution_count": 31,
      "outputs": [
        {
          "output_type": "stream",
          "name": "stdout",
          "text": [
            "Average nights spent by room type:\n",
            "| room_type_reserved   | avg_nights_spent   |\n",
            "|:---------------------|:-------------------|\n",
            "| Room_Type 1          | 2.87828            |\n",
            "| Room_Type 2          | 3                  |\n",
            "| Room_Type 4          | 3.8                |\n",
            "| Room_Type 5          | 2.5                |\n",
            "| Room_Type 6          | 3.61111            |\n",
            "| Room_Type 7          | 2.66667            |\n",
            "SQL query to find average nights spent by room type: SELECT\n",
            "            room_type_reserved,\n",
            "            AVG(no_of_weekend_nights + no_of_week_nights) AS avg_nights_spent\n",
            "           FROM hotel_reservations\n",
            "           GROUP BY room_type_reserved\n"
          ]
        }
      ]
    },
    {
      "cell_type": "code",
      "source": [
        "# Filter the dataframe to only include rows where `no_of_children` is greater than 0\n",
        "df_with_children = df[df['no_of_children'] > 0]\n",
        "\n",
        "# Calculate the frequency counts of unique values in the `room_type_reserved` column for the filtered dataframe\n",
        "room_type_counts_with_children = df_with_children['room_type_reserved'].value_counts()\n",
        "\n",
        "# Sort the results in descending order by frequency count\n",
        "room_type_counts_with_children = room_type_counts_with_children.sort_values(ascending=False)\n",
        "\n",
        "# Select the first row (the most frequent value) and store the room type in a variable\n",
        "most_common_room_type_with_children = room_type_counts_with_children.index[0]\n",
        "\n",
        "# Filter the dataframe to only include rows where `room_type_reserved` is equal to the most frequent room type\n",
        "df_most_common_room_type_with_children = df_with_children[df_with_children['room_type_reserved'] == most_common_room_type_with_children]\n",
        "\n",
        "# Calculate the mean of the `avg_price_per_room` column for the filtered dataframe\n",
        "avg_price_most_common_room_type_with_children = df_most_common_room_type_with_children['avg_price_per_room'].mean()\n",
        "\n",
        "# Print the results\n",
        "print(f'The most common room type for reservations with children is: {most_common_room_type_with_children}')\n",
        "print(f'The average price for this room type is: {avg_price_most_common_room_type_with_children:.2f}')\n",
        "\n",
        "# Create a SQL query string that finds the most common room type for reservations with children and the average price for that room type\n",
        "query = '''WITH most_common_room AS (\n",
        "               SELECT room_type_reserved, COUNT(*) AS frequency\n",
        "               FROM hotel_reservations\n",
        "               WHERE no_of_children > 0\n",
        "               GROUP BY room_type_reserved\n",
        "               ORDER BY frequency DESC\n",
        "               LIMIT 1\n",
        "           )\n",
        "           SELECT\n",
        "               mcr.room_type_reserved,\n",
        "               AVG(hr.avg_price_per_room) AS avg_price\n",
        "           FROM hotel_reservations hr\n",
        "           JOIN most_common_room mcr ON hr.room_type_reserved = mcr.room_type_reserved\n",
        "           WHERE hr.no_of_children > 0'''\n",
        "print(f'SQL query to find most common room type for reservations with children and the average price: {query}')"
      ],
      "metadata": {
        "colab": {
          "base_uri": "https://localhost:8080/"
        },
        "id": "qchqGltGF4VS",
        "outputId": "aee79ff8-d7e1-495a-cb4c-615c9b308f3d"
      },
      "execution_count": 32,
      "outputs": [
        {
          "output_type": "stream",
          "name": "stdout",
          "text": [
            "The most common room type for reservations with children is: Room_Type 1\n",
            "The average price for this room type is: 123.12\n",
            "SQL query to find most common room type for reservations with children and the average price: WITH most_common_room AS (\n",
            "               SELECT room_type_reserved, COUNT(*) AS frequency\n",
            "               FROM hotel_reservations\n",
            "               WHERE no_of_children > 0\n",
            "               GROUP BY room_type_reserved\n",
            "               ORDER BY frequency DESC\n",
            "               LIMIT 1\n",
            "           )\n",
            "           SELECT\n",
            "               mcr.room_type_reserved,\n",
            "               AVG(hr.avg_price_per_room) AS avg_price\n",
            "           FROM hotel_reservations hr\n",
            "           JOIN most_common_room mcr ON hr.room_type_reserved = mcr.room_type_reserved\n",
            "           WHERE hr.no_of_children > 0\n"
          ]
        }
      ]
    },
    {
      "cell_type": "code",
      "source": [
        "# Group the dataframe by `market_segment_type` and calculate the mean of `avg_price_per_room`\n",
        "avg_price_by_market_segment = df.groupby('market_segment_type')['avg_price_per_room'].mean()\n",
        "\n",
        "# Rename the result column to `avg_price`\n",
        "avg_price_by_market_segment = avg_price_by_market_segment.rename('avg_price')\n",
        "\n",
        "# Sort the results in descending order by `avg_price`\n",
        "avg_price_by_market_segment = avg_price_by_market_segment.sort_values(ascending=False)\n",
        "\n",
        "# Select the first row (the market segment with the highest average price) and print the result\n",
        "highest_avg_price_market_segment = avg_price_by_market_segment.index[0]\n",
        "highest_avg_price = avg_price_by_market_segment.iloc[0]\n",
        "print(f'The market segment with the highest average price is: {highest_avg_price_market_segment} with an average price of {highest_avg_price:.2f}')\n",
        "\n",
        "# Create a SQL query string that finds the market segment type with the highest average price per room\n",
        "query = '''SELECT market_segment_type, AVG(avg_price_per_room) AS avg_price\n",
        "           FROM hotel_reservations\n",
        "           GROUP BY market_segment_type\n",
        "           ORDER BY avg_price DESC\n",
        "           LIMIT 1'''\n",
        "print(f'SQL query to find the market segment with the highest average price: {query}')"
      ],
      "metadata": {
        "colab": {
          "base_uri": "https://localhost:8080/"
        },
        "id": "sJXqm4-9F_hS",
        "outputId": "0bb35068-f7c6-4ea7-d44d-4cd9f67b0e15"
      },
      "execution_count": 33,
      "outputs": [
        {
          "output_type": "stream",
          "name": "stdout",
          "text": [
            "The market segment with the highest average price is: Online with an average price of 112.46\n",
            "SQL query to find the market segment with the highest average price: SELECT market_segment_type, AVG(avg_price_per_room) AS avg_price\n",
            "           FROM hotel_reservations\n",
            "           GROUP BY market_segment_type\n",
            "           ORDER BY avg_price DESC\n",
            "           LIMIT 1\n"
          ]
        }
      ]
    }
  ],
  "metadata": {
    "colab": {
      "provenance": []
    },
    "kernelspec": {
      "display_name": "Python 3",
      "name": "python3"
    }
  },
  "nbformat": 4,
  "nbformat_minor": 0
}