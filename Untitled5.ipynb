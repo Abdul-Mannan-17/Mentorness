{
  "nbformat": 4,
  "nbformat_minor": 0,
  "metadata": {
    "colab": {
      "provenance": []
    },
    "kernelspec": {
      "name": "python3",
      "display_name": "Python 3"
    },
    "language_info": {
      "name": "python"
    }
  },
  "cells": [
    {
      "cell_type": "code",
      "execution_count": null,
      "metadata": {
        "id": "OfeJ0d9Fxx_7"
      },
      "outputs": [],
      "source": [
        "import pandas as pd\n",
        "\n",
        "pd.set_option('display.max_rows', None)\n",
        "pd.set_option('display.max_columns', None)\n",
        "\n",
        "# Read the CSV file into a DataFrame\n",
        "df_songs = pd.read_csv('songs.xlsx - Sheet1.csv')\n",
        "\n",
        "# Display the first 5 rows\n",
        "print(df_songs.head().to_markdown(index=False, numalign=\"left\", stralign=\"left\"))\n",
        "\n",
        "# Print the column names and their data types\n",
        "print(df_songs.info())\n"
      ]
    },
    {
      "cell_type": "code",
      "source": [
        "# Drop the `Unnamed: 0` column\n",
        "df_songs.drop(columns=['Unnamed: 0'], inplace=True)\n",
        "\n",
        "# Convert `publishedAt` to datetime\n",
        "df_songs['publishedAt'] = pd.to_datetime(df_songs['publishedAt'])\n",
        "\n",
        "# Extract year and month\n",
        "df_songs['year'] = df_songs['publishedAt'].dt.year\n",
        "df_songs['month'] = df_songs['publishedAt'].dt.month\n",
        "\n",
        "# Filter for T-Series\n",
        "df_t_series = df_songs[df_songs['channelTitle'] == 'T-Series'].copy()\n",
        "\n",
        "# Calculate engagement metrics\n",
        "df_t_series['likes_per_view'] = df_t_series['likeCount'] / df_t_series['viewCount']\n",
        "df_t_series['comments_per_view'] = df_t_series['commentCount'] / df_t_series['viewCount']\n",
        "\n",
        "# Aggregate by channel\n",
        "df_agg_channel = df_t_series.groupby('channelTitle')[['viewCount', 'likeCount', 'commentCount']].sum().reset_index()\n",
        "\n",
        "# Aggregate by year and month\n",
        "df_agg_time = df_t_series.groupby(['year', 'month'])[['viewCount', 'likeCount', 'commentCount']].sum().reset_index()\n",
        "\n",
        "# Explode tags and aggregate\n",
        "df_agg_tags = df_t_series.explode('tags')['tags'].value_counts().reset_index()\n",
        "df_agg_tags.columns = ['tag', 'frequency']\n",
        "\n",
        "# Aggregate engagement metrics by year and month\n",
        "df_agg_engagement = df_t_series.groupby(['year', 'month'])[['likes_per_view', 'comments_per_view']].mean().reset_index()\n",
        "\n",
        "# Print the results\n",
        "print(\"Aggregated metrics by channel:\")\n",
        "print(df_agg_channel.to_markdown(index=False, numalign=\"left\", stralign=\"left\"))\n",
        "\n",
        "print(\"\\nTop tags:\")\n",
        "print(df_agg_tags.head(10).to_markdown(index=False, numalign=\"left\", stralign=\"left\"))\n",
        "\n",
        "print(\"\\nAggregated metrics by year and month:\")\n",
        "print(df_agg_time.to_markdown(index=False, numalign=\"left\", stralign=\"left\"))\n",
        "\n",
        "print(\"\\nAggregated engagement metrics by year and month:\")\n",
        "print(df_agg_engagement.to_markdown(index=False, numalign=\"left\", stralign=\"left\"))\n"
      ],
      "metadata": {
        "id": "qSMyaGUgx0RG"
      },
      "execution_count": null,
      "outputs": []
    }
  ]
}